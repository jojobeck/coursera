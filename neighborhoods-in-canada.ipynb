{
 "cells": [
  {
   "cell_type": "markdown",
   "metadata": {},
   "source": [
    "#  Canada's neighbourhoods\n"
   ]
  },
  {
   "cell_type": "markdown",
   "metadata": {},
   "source": [
    "This is a notebook to get data Canada's neighbourhood, based on the wikipedia entry https://en.wikipedia.org/wiki/List_of_postal_codes_of_Canada:_M\n",
    "then the neighbourhood will be clustered to find neighbourhoods of the same kind:"
   ]
  },
  {
   "cell_type": "markdown",
   "metadata": {},
   "source": [
    "## 1.  Preprocessing: getting and cleaning the data"
   ]
  },
  {
   "cell_type": "code",
   "execution_count": null,
   "metadata": {},
   "outputs": [],
   "source": [
    "import numpy as np\n",
    "import pandas as pd\n",
    "import pandas as pd\n",
    "from bs4 import BeautifulSoup\n",
    "import requests"
   ]
  },
  {
   "cell_type": "code",
   "execution_count": 97,
   "metadata": {},
   "outputs": [],
   "source": [
    "#get data of table and create list\n",
    "source = requests.get('https://en.wikipedia.org/wiki/List_of_postal_codes_of_Canada:_M').text\n",
    "soup = BeautifulSoup(source, 'lxml')\n",
    "table = soup.find('tbody')\n",
    "#table.text\n",
    "l = []\n",
    "for entry in table.find_all('tr'):\n",
    "    a = entry.text.split('\\n')\n",
    "    l.append(a[1:4])\n"
   ]
  },
  {
   "cell_type": "code",
   "execution_count": 101,
   "metadata": {},
   "outputs": [
    {
     "data": {
      "text/html": [
       "<div>\n",
       "<style scoped>\n",
       "    .dataframe tbody tr th:only-of-type {\n",
       "        vertical-align: middle;\n",
       "    }\n",
       "\n",
       "    .dataframe tbody tr th {\n",
       "        vertical-align: top;\n",
       "    }\n",
       "\n",
       "    .dataframe thead th {\n",
       "        text-align: right;\n",
       "    }\n",
       "</style>\n",
       "<table border=\"1\" class=\"dataframe\">\n",
       "  <thead>\n",
       "    <tr style=\"text-align: right;\">\n",
       "      <th></th>\n",
       "      <th>Postcode</th>\n",
       "      <th>Borough</th>\n",
       "      <th>Neighbourhood</th>\n",
       "    </tr>\n",
       "  </thead>\n",
       "  <tbody>\n",
       "    <tr>\n",
       "      <th>0</th>\n",
       "      <td>M1A</td>\n",
       "      <td>Not assigned</td>\n",
       "      <td>Not assigned</td>\n",
       "    </tr>\n",
       "    <tr>\n",
       "      <th>1</th>\n",
       "      <td>M2A</td>\n",
       "      <td>Not assigned</td>\n",
       "      <td>Not assigned</td>\n",
       "    </tr>\n",
       "    <tr>\n",
       "      <th>2</th>\n",
       "      <td>M3A</td>\n",
       "      <td>North York</td>\n",
       "      <td>Parkwoods</td>\n",
       "    </tr>\n",
       "    <tr>\n",
       "      <th>3</th>\n",
       "      <td>M4A</td>\n",
       "      <td>North York</td>\n",
       "      <td>Victoria Village</td>\n",
       "    </tr>\n",
       "    <tr>\n",
       "      <th>4</th>\n",
       "      <td>M5A</td>\n",
       "      <td>Downtown Toronto</td>\n",
       "      <td>Harbourfront</td>\n",
       "    </tr>\n",
       "  </tbody>\n",
       "</table>\n",
       "</div>"
      ],
      "text/plain": [
       "  Postcode           Borough     Neighbourhood\n",
       "0      M1A      Not assigned      Not assigned\n",
       "1      M2A      Not assigned      Not assigned\n",
       "2      M3A        North York         Parkwoods\n",
       "3      M4A        North York  Victoria Village\n",
       "4      M5A  Downtown Toronto      Harbourfront"
      ]
     },
     "execution_count": 101,
     "metadata": {},
     "output_type": "execute_result"
    }
   ],
   "source": [
    "#make panda frame\n",
    "df0 = pd.DataFrame(l[1:],columns = l[0])\n",
    "df0.head()"
   ]
  },
  {
   "cell_type": "code",
   "execution_count": 86,
   "metadata": {},
   "outputs": [
    {
     "name": "stdout",
     "output_type": "stream",
     "text": [
      "6\n"
     ]
    }
   ],
   "source": [
    "#drop 'not assigned borough'\n",
    "df = df0[df0.Borough != 'Not assigned']\n",
    "df.reset_index(drop=True, inplace=True)\n",
    "\n",
    "# neighbourhood 'not assigned' and replace by borough name\n",
    "tt = df[df.Neighbourhood == 'Not assigned']\n",
    "for num in tt.index:\n",
    "    df.loc[num].Neighbourhood =  df.loc[num].Borough\n",
    "    \n"
   ]
  },
  {
   "cell_type": "code",
   "execution_count": 123,
   "metadata": {},
   "outputs": [
    {
     "data": {
      "text/plain": [
       "Postcode\n",
       "M1B                                     [Rouge, Malvern]\n",
       "M1C             [Highland Creek, Rouge Hill, Port Union]\n",
       "M1E                  [Guildwood, Morningside, West Hill]\n",
       "M1G                                             [Woburn]\n",
       "M1H                                          [Cedarbrae]\n",
       "M1J                                [Scarborough Village]\n",
       "M1K        [East Birchmount Park, Ionview, Kennedy Park]\n",
       "M1L                    [Clairlea, Golden Mile, Oakridge]\n",
       "M1M    [Cliffcrest, Cliffside, Scarborough Village West]\n",
       "M1N                        [Birch Cliff, Cliffside West]\n",
       "M1P    [Dorset Park, Scarborough Town Centre, Wexford...\n",
       "M1R                                  [Maryvale, Wexford]\n",
       "M1S                                          [Agincourt]\n",
       "M1T            [Clarks Corners, Sullivan, Tam O'Shanter]\n",
       "M1V    [Agincourt North, L'Amoreaux East, Milliken, S...\n",
       "M1W                      [L'Amoreaux West, Steeles West]\n",
       "M1X                                        [Upper Rouge]\n",
       "M2H                                  [Hillcrest Village]\n",
       "M2J                       [Fairview, Henry Farm, Oriole]\n",
       "M2K                                    [Bayview Village]\n",
       "M2L                           [Silver Hills, York Mills]\n",
       "M2M                            [Newtonbrook, Willowdale]\n",
       "M2N                                   [Willowdale South]\n",
       "M2P                                    [York Mills West]\n",
       "M2R                                    [Willowdale West]\n",
       "M3A                                          [Parkwoods]\n",
       "M3B                                    [Don Mills North]\n",
       "M3C                   [Flemingdon Park, Don Mills South]\n",
       "M3H    [Bathurst Manor, Downsview North, Wilson Heights]\n",
       "M3J                    [Northwood Park, York University]\n",
       "                             ...                        \n",
       "M6C                                 [Humewood-Cedarvale]\n",
       "M6E                                [Caledonia-Fairbanks]\n",
       "M6G                                           [Christie]\n",
       "M6H                       [Dovercourt Village, Dufferin]\n",
       "M6J                           [Little Portugal, Trinity]\n",
       "M6K       [Brockton, Exhibition Place, Parkdale Village]\n",
       "M6L           [Maple Leaf Park, North Park, Upwood Park]\n",
       "M6M     [Del Ray, Keelesdale, Mount Dennis, Silverthorn]\n",
       "M6N                      [The Junction North, Runnymede]\n",
       "M6P                      [High Park, The Junction South]\n",
       "M6R                             [Parkdale, Roncesvalles]\n",
       "M6S                                 [Runnymede, Swansea]\n",
       "M7A                                       [Queen's Park]\n",
       "M7R              [Canada Post Gateway Processing Centre]\n",
       "M7Y    [Business Reply Mail Processing Centre 969 Eas...\n",
       "M8V       [Humber Bay Shores, Mimico South, New Toronto]\n",
       "M8W                             [Alderwood, Long Branch]\n",
       "M8X      [The Kingsway, Montgomery Road, Old Mill North]\n",
       "M8Y    [Humber Bay, King's Mill Park, Kingsway Park S...\n",
       "M8Z    [Kingsway Park South West, Mimico NW, The Quee...\n",
       "M9A                                   [Islington Avenue]\n",
       "M9B    [Cloverdale, Islington, Martin Grove, Princess...\n",
       "M9C    [Bloordale Gardens, Eringate, Markland Wood, O...\n",
       "M9L                                      [Humber Summit]\n",
       "M9M                                   [Emery, Humberlea]\n",
       "M9N                                             [Weston]\n",
       "M9P                                          [Westmount]\n",
       "M9R    [Kingsview Village, Martin Grove Gardens, Rich...\n",
       "M9V    [Albion Gardens, Beaumond Heights, Humbergate,...\n",
       "M9W                                          [Northwest]\n",
       "Name: Neighbourhood, Length: 103, dtype: object"
      ]
     },
     "execution_count": 123,
     "metadata": {},
     "output_type": "execute_result"
    }
   ],
   "source": [
    "neigh = df.groupby('Postcode').Neighbourhood.unique()\n",
    "neigh"
   ]
  },
  {
   "cell_type": "code",
   "execution_count": 109,
   "metadata": {},
   "outputs": [
    {
     "data": {
      "text/plain": [
       "Postcode\n",
       "M1B         [Scarborough]\n",
       "M1C         [Scarborough]\n",
       "M1E         [Scarborough]\n",
       "M1G         [Scarborough]\n",
       "M1H         [Scarborough]\n",
       "M1J         [Scarborough]\n",
       "M1K         [Scarborough]\n",
       "M1L         [Scarborough]\n",
       "M1M         [Scarborough]\n",
       "M1N         [Scarborough]\n",
       "M1P         [Scarborough]\n",
       "M1R         [Scarborough]\n",
       "M1S         [Scarborough]\n",
       "M1T         [Scarborough]\n",
       "M1V         [Scarborough]\n",
       "M1W         [Scarborough]\n",
       "M1X         [Scarborough]\n",
       "M2H          [North York]\n",
       "M2J          [North York]\n",
       "M2K          [North York]\n",
       "M2L          [North York]\n",
       "M2M          [North York]\n",
       "M2N          [North York]\n",
       "M2P          [North York]\n",
       "M2R          [North York]\n",
       "M3A          [North York]\n",
       "M3B          [North York]\n",
       "M3C          [North York]\n",
       "M3H          [North York]\n",
       "M3J          [North York]\n",
       "              ...        \n",
       "M6C                [York]\n",
       "M6E                [York]\n",
       "M6G    [Downtown Toronto]\n",
       "M6H        [West Toronto]\n",
       "M6J        [West Toronto]\n",
       "M6K        [West Toronto]\n",
       "M6L          [North York]\n",
       "M6M                [York]\n",
       "M6N                [York]\n",
       "M6P        [West Toronto]\n",
       "M6R        [West Toronto]\n",
       "M6S        [West Toronto]\n",
       "M7A        [Queen's Park]\n",
       "M7R         [Mississauga]\n",
       "M7Y        [East Toronto]\n",
       "M8V           [Etobicoke]\n",
       "M8W           [Etobicoke]\n",
       "M8X           [Etobicoke]\n",
       "M8Y           [Etobicoke]\n",
       "M8Z           [Etobicoke]\n",
       "M9A           [Etobicoke]\n",
       "M9B           [Etobicoke]\n",
       "M9C           [Etobicoke]\n",
       "M9L          [North York]\n",
       "M9M          [North York]\n",
       "M9N                [York]\n",
       "M9P           [Etobicoke]\n",
       "M9R           [Etobicoke]\n",
       "M9V           [Etobicoke]\n",
       "M9W           [Etobicoke]\n",
       "Name: Borough, Length: 103, dtype: object"
      ]
     },
     "execution_count": 109,
     "metadata": {},
     "output_type": "execute_result"
    }
   ],
   "source": [
    "fd_sharepostcode = df.groupby('Postcode').Borough.unique()"
   ]
  },
  {
   "cell_type": "code",
   "execution_count": 113,
   "metadata": {},
   "outputs": [
    {
     "ename": "AttributeError",
     "evalue": "'Series' object has no attribute 'Borough'",
     "output_type": "error",
     "traceback": [
      "\u001b[0;31m---------------------------------------------------------------------------\u001b[0m",
      "\u001b[0;31mAttributeError\u001b[0m                            Traceback (most recent call last)",
      "\u001b[0;32m<ipython-input-113-b71e6cc7355c>\u001b[0m in \u001b[0;36m<module>\u001b[0;34m\u001b[0m\n\u001b[1;32m      1\u001b[0m \u001b[0mtets\u001b[0m \u001b[0;34m=\u001b[0m \u001b[0mdf\u001b[0m\u001b[0;34m.\u001b[0m\u001b[0mgroupby\u001b[0m\u001b[0;34m(\u001b[0m\u001b[0;34m'Postcode'\u001b[0m\u001b[0;34m)\u001b[0m\u001b[0;34m.\u001b[0m\u001b[0mBorough\u001b[0m\u001b[0;34m.\u001b[0m\u001b[0munique\u001b[0m\u001b[0;34m(\u001b[0m\u001b[0;34m)\u001b[0m\u001b[0;34m\u001b[0m\u001b[0m\n\u001b[0;32m----> 2\u001b[0;31m \u001b[0mtets\u001b[0m\u001b[0;34m.\u001b[0m\u001b[0mBorough\u001b[0m\u001b[0;34m\u001b[0m\u001b[0m\n\u001b[0m",
      "\u001b[0;32m~/envs/default/bin/Vpy3/lib/python3.5/site-packages/pandas/core/generic.py\u001b[0m in \u001b[0;36m__getattr__\u001b[0;34m(self, name)\u001b[0m\n\u001b[1;32m   4374\u001b[0m             \u001b[0;32mif\u001b[0m \u001b[0mself\u001b[0m\u001b[0;34m.\u001b[0m\u001b[0m_info_axis\u001b[0m\u001b[0;34m.\u001b[0m\u001b[0m_can_hold_identifiers_and_holds_name\u001b[0m\u001b[0;34m(\u001b[0m\u001b[0mname\u001b[0m\u001b[0;34m)\u001b[0m\u001b[0;34m:\u001b[0m\u001b[0;34m\u001b[0m\u001b[0m\n\u001b[1;32m   4375\u001b[0m                 \u001b[0;32mreturn\u001b[0m \u001b[0mself\u001b[0m\u001b[0;34m[\u001b[0m\u001b[0mname\u001b[0m\u001b[0;34m]\u001b[0m\u001b[0;34m\u001b[0m\u001b[0m\n\u001b[0;32m-> 4376\u001b[0;31m             \u001b[0;32mreturn\u001b[0m \u001b[0mobject\u001b[0m\u001b[0;34m.\u001b[0m\u001b[0m__getattribute__\u001b[0m\u001b[0;34m(\u001b[0m\u001b[0mself\u001b[0m\u001b[0;34m,\u001b[0m \u001b[0mname\u001b[0m\u001b[0;34m)\u001b[0m\u001b[0;34m\u001b[0m\u001b[0m\n\u001b[0m\u001b[1;32m   4377\u001b[0m \u001b[0;34m\u001b[0m\u001b[0m\n\u001b[1;32m   4378\u001b[0m     \u001b[0;32mdef\u001b[0m \u001b[0m__setattr__\u001b[0m\u001b[0;34m(\u001b[0m\u001b[0mself\u001b[0m\u001b[0;34m,\u001b[0m \u001b[0mname\u001b[0m\u001b[0;34m,\u001b[0m \u001b[0mvalue\u001b[0m\u001b[0;34m)\u001b[0m\u001b[0;34m:\u001b[0m\u001b[0;34m\u001b[0m\u001b[0m\n",
      "\u001b[0;31mAttributeError\u001b[0m: 'Series' object has no attribute 'Borough'"
     ]
    }
   ],
   "source": [
    "tets = df.groupby('Postcode').Borough.unique()\n",
    "tets.Borough"
   ]
  },
  {
   "cell_type": "code",
   "execution_count": 87,
   "metadata": {},
   "outputs": [
    {
     "data": {
      "text/plain": [
       "Postcode                  M7A\n",
       "Borough          Queen's Park\n",
       "Neighbourhood    Queen's Park\n",
       "Name: 6, dtype: object"
      ]
     },
     "execution_count": 87,
     "metadata": {},
     "output_type": "execute_result"
    }
   ],
   "source": [
    "df.loc[num]"
   ]
  },
  {
   "cell_type": "code",
   "execution_count": null,
   "metadata": {},
   "outputs": [],
   "source": [
    "#df.reset_index(drop=True)\n",
    "#df[df.Neighbourhood == 'Not assigned']"
   ]
  }
 ],
 "metadata": {
  "kernelspec": {
   "display_name": "Python 3",
   "language": "python",
   "name": "python3"
  },
  "language_info": {
   "codemirror_mode": {
    "name": "ipython",
    "version": 3
   },
   "file_extension": ".py",
   "mimetype": "text/x-python",
   "name": "python",
   "nbconvert_exporter": "python",
   "pygments_lexer": "ipython3",
   "version": "3.5.2"
  }
 },
 "nbformat": 4,
 "nbformat_minor": 2
}
